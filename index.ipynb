{
 "cells": [
  {
   "cell_type": "markdown",
   "metadata": {},
   "source": [
    "# Folium - Codealong\n",
    "\n",
    "## Introduction \n",
    "\n",
    "In this codealong, we'll take a look at how to create an interactive map using the Folium package. From there, we'll return to APIs in the final lab for the day where you'll make an interactive map from your requests to the API!\n",
    "\n",
    "## Objectives\n",
    "\n",
    "You will be able to: \n",
    "* Create maps with Folium"
   ]
  },
  {
   "cell_type": "markdown",
   "metadata": {},
   "source": [
    "## Creating a Basemap\n",
    "\n",
    "Here we'll take a look at creating a basemap over the London region!"
   ]
  },
  {
   "cell_type": "code",
   "execution_count": 1,
   "metadata": {
    "scrolled": false
   },
   "outputs": [
    {
     "data": {
      "text/html": [
       "<div style=\"width:100%;\"><div style=\"position:relative;width:100%;height:0;padding-bottom:60%;\"><iframe src=\"data:text/html;charset=utf-8;base64,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\" style=\"position:absolute;width:100%;height:100%;left:0;top:0;border:none !important;\" allowfullscreen webkitallowfullscreen mozallowfullscreen></iframe></div></div>"
      ],
      "text/plain": [
       "<folium.folium.Map at 0x7f98c04ab400>"
      ]
     },
     "execution_count": 1,
     "metadata": {},
     "output_type": "execute_result"
    }
   ],
   "source": [
    "import folium\n",
    "\n",
    "lat = 51.51\n",
    "long = -0.14\n",
    "\n",
    "#Create a map of the area\n",
    "base_map = folium.Map([lat, long], zoom_start=13)\n",
    "base_map"
   ]
  },
  {
   "cell_type": "markdown",
   "metadata": {},
   "source": [
    "## Adding Markers to the Map\n",
    "\n",
    "Great! Now let's take a look at adding little markers to our map!\n",
    "\n",
    "**Note:** you may have to zoom out to see all of the markers!"
   ]
  },
  {
   "cell_type": "code",
   "execution_count": 2,
   "metadata": {},
   "outputs": [
    {
     "data": {
      "text/html": [
       "<div style=\"width:100%;\"><div style=\"position:relative;width:100%;height:0;padding-bottom:60%;\"><iframe src=\"data:text/html;charset=utf-8;base64,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\" style=\"position:absolute;width:100%;height:100%;left:0;top:0;border:none !important;\" allowfullscreen webkitallowfullscreen mozallowfullscreen></iframe></div></div>"
      ],
      "text/plain": [
       "<folium.folium.Map at 0x7f98c04ab400>"
      ]
     },
     "execution_count": 2,
     "metadata": {},
     "output_type": "execute_result"
    }
   ],
   "source": [
    "import numpy as np\n",
    "\n",
    "#Generate some random locations to add to our map\n",
    "x = [lat + np.random.uniform(-.1,.1) for i in range(20)]\n",
    "y = [long + np.random.uniform(-.1,.1) for i in range(20)]\n",
    "points = list(zip(x, y))\n",
    "for p in points:\n",
    "    lat = p[0]\n",
    "    long = p[1]\n",
    "    marker = folium.Marker(location=[lat, long])\n",
    "    marker.add_to(base_map)\n",
    "base_map"
   ]
  },
  {
   "cell_type": "markdown",
   "metadata": {},
   "source": [
    "## Adding Pop-up Boxes to Our Markers\n",
    "\n",
    "Often we may wish to not only place markers on the map, but to create interactive pop-ups which display information to that location. To do this, we can add a popup to our markers when adding them to the map! "
   ]
  },
  {
   "cell_type": "code",
   "execution_count": null,
   "metadata": {},
   "outputs": [],
   "source": [
    "for p in points:\n",
    "    lat = p[0]\n",
    "    long = p[1]\n",
    "    popup_text = \"Latitude: {}, Longitude: {}\".format(lat,long)\n",
    "    popup = folium.Popup(popup_text, parse_html=True)\n",
    "    marker = folium.Marker(location=[lat, long], popup=popup)\n",
    "    marker.add_to(base_map)\n",
    "base_map"
   ]
  },
  {
   "cell_type": "markdown",
   "metadata": {},
   "source": [
    "Now, if you click on the map markers, you should see a little information box pop up!\n",
    "\n",
    "## Summary \n",
    "\n",
    "In this codealong, we learned how to use Folium to create some cool interactive maps with only a few lines of python code! In the next lab, you'll synthesize your skills for the day together and create an interactive visualization map for data you retrieve from the Yelp API!"
   ]
  }
 ],
 "metadata": {
  "kernelspec": {
   "display_name": "Python 3",
   "language": "python",
   "name": "python3"
  },
  "language_info": {
   "codemirror_mode": {
    "name": "ipython",
    "version": 3
   },
   "file_extension": ".py",
   "mimetype": "text/x-python",
   "name": "python",
   "nbconvert_exporter": "python",
   "pygments_lexer": "ipython3",
   "version": "3.6.6"
  }
 },
 "nbformat": 4,
 "nbformat_minor": 2
}
